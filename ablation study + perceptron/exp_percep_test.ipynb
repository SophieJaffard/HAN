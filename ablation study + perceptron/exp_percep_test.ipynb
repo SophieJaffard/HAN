{
 "cells": [
  {
   "cell_type": "code",
   "execution_count": null,
   "metadata": {},
   "outputs": [],
   "source": [
    "import numpy as np\n",
    "from hansolo import *\n",
    "\n",
    "M = 2502\n",
    "Nb=100\n",
    "\n",
    "learning='blocs'\n",
    "M_obj = 500 #size of testing set\n",
    "n_epochs = int(M/9) #number of epochs\n",
    "\n",
    "\n",
    "obj = [\n",
    "    [1, 0, 0, 1, 0, 0],\n",
    "    [1, 0, 0, 0, 1, 0],\n",
    "    [1, 0, 0, 0, 0, 1],\n",
    "    [0, 1, 0, 1, 0, 0],\n",
    "    [0, 1, 0, 0, 1, 0],\n",
    "    [0, 1, 0, 0, 0, 1],\n",
    "    [0, 0, 1, 1, 0, 0],\n",
    "    [0, 0, 1, 0, 1, 0],\n",
    "    [0, 0, 1, 0, 0, 1],\n",
    "]\n",
    "\n",
    "answers = np.zeros((Nb, n_epochs, M_obj))  # 0 if wrong, 1 if correct\n",
    "\n",
    "W = np.load(f'/Users/sophiejaffard/Desktop/HAN2/{learning}_W_perc.npy')\n",
    "\n",
    "W=W[:,9*np.arange(n_epochs),:] #weights after each epoch\n",
    "\n",
    "\n",
    "#Wcc=np.zeros((K_output,Kcc,M,Nb))\n",
    "\n",
    "for nb in range(Nb):\n",
    "\n",
    "    #creation of the list of objects (testing set)\n",
    "    L=list_objects_random(obj,M_obj)\n",
    "\n",
    "    mask = np.array([in_A(L[m_obj])for m_obj in range(M_obj)])\n",
    "    Y_teacher = np.where(mask, 1, -1)\n",
    "    #print(mask)\n",
    "\n",
    "    # Create an array of ones and -1s based on the mask\n",
    "    true_cat = np.where(mask, 0, 1) #0 if A, 1 if B\n",
    "\n",
    "    for m_obj in range(M_obj):\n",
    "        obj_cur=L[m_obj] #vector of a_im\n",
    "        for m in range(n_epochs):\n",
    "                if Y_teacher[m_obj]*np.dot(W[:,m,nb],L[m_obj]) > 0:\n",
    "                    answers[nb,m,m_obj]=1\n",
    "    \n",
    "    print(nb)\n",
    "\n",
    "np.save(f\"/Users/sophiejaffard/Desktop/HAN2/{learning}_percep_test\", answers)\n",
    "\n"
   ]
  }
 ],
 "metadata": {
  "kernelspec": {
   "display_name": "base",
   "language": "python",
   "name": "python3"
  },
  "language_info": {
   "codemirror_mode": {
    "name": "ipython",
    "version": 3
   },
   "file_extension": ".py",
   "mimetype": "text/x-python",
   "name": "python",
   "nbconvert_exporter": "python",
   "pygments_lexer": "ipython3",
   "version": "3.11.4"
  },
  "orig_nbformat": 4
 },
 "nbformat": 4,
 "nbformat_minor": 2
}
