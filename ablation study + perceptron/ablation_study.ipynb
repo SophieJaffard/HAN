{
 "cells": [
  {
   "cell_type": "code",
   "execution_count": null,
   "metadata": {},
   "outputs": [],
   "source": [
    "from hansolo import *\n",
    "\n",
    "expert= \"EWA\"\n",
    "learning = \"blocs\"\n",
    "n_feat=6\n",
    "N_a = n_feat\n",
    "Nb = 100\n",
    "M_obj = 500\n",
    "\n",
    "moy = np.zeros((N_a))\n",
    "\n",
    "answers = np.load(f\"{expert}_{learning}_test_ablation.npy\") #Nb, M_obj, N_a\n",
    "\n",
    "print('linear ',expert)\n",
    "moy = np.sum(np.sum(answers, axis = 0), axis = 0)/(Nb*M_obj)\n",
    "print(moy)\n",
    "\n",
    "answers2 = np.load(f\"{expert}_{learning}_HAN_test_ablation.npy\")\n",
    "moy2 = np.sum(np.sum(answers2, axis = 0), axis = 0)/(Nb*M_obj)\n",
    "print('nonlinear ',expert)\n",
    "print(moy2)\n",
    "\n"
   ]
  }
 ],
 "metadata": {
  "kernelspec": {
   "display_name": "base",
   "language": "python",
   "name": "python3"
  },
  "language_info": {
   "codemirror_mode": {
    "name": "ipython",
    "version": 3
   },
   "file_extension": ".py",
   "mimetype": "text/x-python",
   "name": "python",
   "nbconvert_exporter": "python",
   "pygments_lexer": "ipython3",
   "version": "3.11.4"
  },
  "orig_nbformat": 4
 },
 "nbformat": 4,
 "nbformat_minor": 2
}
