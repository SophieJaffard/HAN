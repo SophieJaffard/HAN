{
 "cells": [
  {
   "cell_type": "code",
   "execution_count": null,
   "metadata": {},
   "outputs": [],
   "source": [
    "from hansolo import *\n",
    "\n",
    "M=2502\n",
    "Nb=100\n",
    "paq=180\n",
    "level=0.1\n",
    "learning=\"blocs\"\n",
    "\n",
    "plt.figure(figsize=(5.5,4))\n",
    "\n",
    "legend=['HAN with EWA', 'HAN with PWA', 'HAN Solo with EWA', 'HAN Solo with PWA', 'Component-Cue']\n",
    "color=['green','magenta','blue','orange','brown']\n",
    "\n",
    "\n",
    "answers=np.zeros((5,Nb,M))\n",
    "\n",
    "answers[2,:,:]=np.load(f'/Users/sophiejaffard/Desktop/saves/EWA_{learning}.npy')\n",
    "answers[3,:,:]=np.load(f'/Users/sophiejaffard/Desktop/saves/PWA_{learning}.npy')\n",
    "answers[0,:,:]=np.load(f'/Users/sophiejaffard/Desktop/saves/EWA_{learning}_HAN.npy')\n",
    "answers[1,:,:]=np.load(f'/Users/sophiejaffard/Desktop/saves/PWA_{learning}_HAN.npy')\n",
    "answers[4,:,:]=np.load(f'/Users/sophiejaffard/Desktop/saves/{learning}_CC.npy')\n",
    "\n",
    "for i in range(5):\n",
    "    Y=np.zeros((Nb,M-paq)) # percentage \"glissant\" of correct guesses for a bloc of 18 objects\n",
    "    for nb in range(Nb):\n",
    "        for m in range(M-paq):\n",
    "            Y[nb,m]=np.sum(answers[i,nb,m:m+paq])/paq\n",
    "    Y_med=np.zeros(M-paq)\n",
    "    Y_90=np.zeros(M-paq)\n",
    "    Y_10=np.zeros(M-paq)\n",
    "    Y_max=np.zeros(M-paq)\n",
    "\n",
    "    for m in range(M-paq):\n",
    "        X=Y[:,m]\n",
    "        X=np.sort(X)\n",
    "        Y_med[m]=X[int(Nb/2)]\n",
    "        Y_90[m]=X[int(Nb*(1-level))]\n",
    "        Y_10[m]=X[int(Nb*level)]\n",
    "        Y_max[m]=X[Nb-1]\n",
    "   # if Y_10[m] > Y_med[m]:\n",
    "        #print(m)\n",
    "\n",
    "    X2=np.arange(M-paq)+paq\n",
    "    plt.plot(X2,Y_med, label=legend[i], color=color[i])\n",
    "    plt.fill_between(X2, Y_10, Y_90, color=color[i], alpha=.2)\n",
    "\n",
    "plt.yticks([0.6,0.8,1])\n",
    "plt.xticks([500,1500,2500])\n",
    "plt.ylabel('Proportion of correction classifications')\n",
    "plt.xlabel('m')\n",
    "\n",
    "plt.legend()\n",
    "#plt.savefig('curves.pdf')\n",
    "plt.show()\n",
    "\n"
   ]
  }
 ],
 "metadata": {
  "kernelspec": {
   "display_name": "base",
   "language": "python",
   "name": "python3"
  },
  "language_info": {
   "codemirror_mode": {
    "name": "ipython",
    "version": 3
   },
   "file_extension": ".py",
   "mimetype": "text/x-python",
   "name": "python",
   "nbconvert_exporter": "python",
   "pygments_lexer": "ipython3",
   "version": "3.11.4"
  },
  "orig_nbformat": 4
 },
 "nbformat": 4,
 "nbformat_minor": 2
}
