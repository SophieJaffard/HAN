{
 "cells": [
  {
   "cell_type": "code",
   "execution_count": null,
   "metadata": {},
   "outputs": [],
   "source": [
    "from hansolo import *\n",
    "M_obj=500\n",
    "M=2502\n",
    "n_epoch = int(M/9)\n",
    "\n",
    "Nb=100\n",
    "\n",
    "level=0.1\n",
    "learning=\"blocs\"\n",
    "\n",
    "plt.figure(figsize=(5.5,4))\n",
    "\n",
    "legend=['HAN with EWA', 'HAN with PWA', 'HAN Solo with EWA', 'HAN Solo with PWA']\n",
    "color=['green','magenta','blue','orange']\n",
    "\n",
    "#answers=np.load(f'saves/PWA_{learning}_HAN_test.npy')\n",
    "\n",
    "answers=np.zeros((4,Nb,n_epoch, M_obj))\n",
    "\n",
    "answers[2,:,:,:]=np.load(f'/Users/sophiejaffard/Desktop/saves/EWA_{learning}_test.npy')\n",
    "answers[3,:,:,:]=np.load(f'/Users/sophiejaffard/Desktop/saves/PWA_{learning}_test.npy')\n",
    "answers[0,:,:,:]=np.load(f'/Users/sophiejaffard/Desktop/saves/EWA_{learning}_HAN_test.npy')\n",
    "answers[1,:,:,:]=np.load(f'/Users/sophiejaffard/Desktop/saves/PWA_{learning}_HAN_test.npy')\n",
    "\n",
    "for i in range(4):\n",
    "    Y=np.zeros((Nb,n_epoch)) # percentage \"glissant\" of correct guesses for a bloc of 18 objects\n",
    "    for nb in range(Nb):\n",
    "        for m in range(n_epoch):\n",
    "            Y[nb,m]=np.sum(answers[i,nb,m,:])/M_obj\n",
    "    Y_med=np.zeros(n_epoch)\n",
    "    Y_90=np.zeros(n_epoch)\n",
    "    Y_10=np.zeros(n_epoch)\n",
    "\n",
    "    for m in range(n_epoch):\n",
    "        X=Y[:,m]\n",
    "        X=np.sort(X)\n",
    "        Y_med[m]=X[int(Nb/2)]\n",
    "        Y_90[m]=X[int(Nb*(1-level))]\n",
    "        Y_10[m]=X[int(Nb*level)]\n",
    "   \n",
    "\n",
    "    X2=np.arange(n_epoch)\n",
    "    plt.plot(X2,Y_med,label=legend[i], color=color[i])\n",
    "    plt.fill_between(X2, Y_10, Y_90, color=color[i], alpha=.2)\n",
    "\n",
    "#plt.yticks([0.6,0.8,1])\n",
    "#plt.xticks([500,1500,2500])\n",
    "plt.ylabel('Proportion of correction classifications for the testing set')\n",
    "plt.xlabel('Epoch')\n",
    "\n",
    "plt.legend()\n",
    "#plt.savefig('curves.pdf')\n",
    "plt.show()\n",
    "\n"
   ]
  }
 ],
 "metadata": {
  "kernelspec": {
   "display_name": "base",
   "language": "python",
   "name": "python3"
  },
  "language_info": {
   "codemirror_mode": {
    "name": "ipython",
    "version": 3
   },
   "file_extension": ".py",
   "mimetype": "text/x-python",
   "name": "python",
   "nbconvert_exporter": "python",
   "pygments_lexer": "ipython3",
   "version": "3.11.4"
  },
  "orig_nbformat": 4
 },
 "nbformat": 4,
 "nbformat_minor": 2
}
